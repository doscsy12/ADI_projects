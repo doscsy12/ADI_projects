{
 "cells": [
  {
   "cell_type": "markdown",
   "id": "0ff6e48b",
   "metadata": {},
   "source": [
    "## Fraud detection project\n",
    "\n",
    "### Aim: Extract second- and third-degrees of connections \n"
   ]
  },
  {
   "cell_type": "markdown",
   "id": "69a99a23",
   "metadata": {},
   "source": [
    "#### Background: \n"
   ]
  },
  {
   "cell_type": "markdown",
   "id": "f6997d68",
   "metadata": {},
   "source": [
    "*import libraries*"
   ]
  },
  {
   "cell_type": "code",
   "execution_count": 1,
   "id": "bcaf334d",
   "metadata": {},
   "outputs": [],
   "source": [
    "import pandas as pd\n",
    "import numpy as np\n",
    "import seaborn as sns\n",
    "import matplotlib.pyplot as plt\n",
    "%matplotlib inline\n",
    "\n",
    "import networkx as nx\n",
    "import bokeh\n",
    "import collections\n",
    "import powerlaw \n",
    "import operator "
   ]
  },
  {
   "cell_type": "code",
   "execution_count": 2,
   "id": "d3930f31",
   "metadata": {},
   "outputs": [],
   "source": [
    "import warnings\n",
    "warnings.filterwarnings(\"ignore\")\n",
    "\n",
    "pd.options.display.max_rows = 50\n",
    "pd.options.display.max_columns = 50"
   ]
  },
  {
   "cell_type": "markdown",
   "id": "b6ee6aa6",
   "metadata": {},
   "source": [
    "#### level 2"
   ]
  },
  {
   "cell_type": "markdown",
   "id": "51f55d3c",
   "metadata": {},
   "source": [
    "*import data*"
   ]
  },
  {
   "cell_type": "markdown",
   "id": "be855339",
   "metadata": {},
   "source": [
    "levels \n",
    "<br> Level1 (one edge):\n",
    "bank to Otherbank/ bank to pay\n",
    "\n",
    "Level 2 (two edges):\n",
    "bank to bank to other Nonbank accounts (if applicable)\n",
    "\n",
    "Level 3 (three edges or more):\n",
    "bank to bank to bank to other Nonbank accounts (if applicable)"
   ]
  },
  {
   "cell_type": "markdown",
   "id": "509562a1",
   "metadata": {},
   "source": [
    "**import data**"
   ]
  },
  {
   "cell_type": "code",
   "execution_count": 7,
   "id": "e750062f",
   "metadata": {},
   "outputs": [],
   "source": [
    "txn_df = pd.read_csv('.\\data\\Final_Cleaned.csv')"
   ]
  },
  {
   "cell_type": "markdown",
   "id": "4bb5dacc",
   "metadata": {},
   "source": [
    "##### clean data"
   ]
  },
  {
   "cell_type": "code",
   "execution_count": 10,
   "id": "86f3936f",
   "metadata": {},
   "outputs": [],
   "source": [
    "txn_df.dropna(subset = ['target_name'],inplace=True)"
   ]
  },
  {
   "cell_type": "code",
   "execution_count": 11,
   "id": "3bc121b6",
   "metadata": {},
   "outputs": [
    {
     "data": {
      "text/plain": [
       "(960933, 29)"
      ]
     },
     "execution_count": 11,
     "metadata": {},
     "output_type": "execute_result"
    }
   ],
   "source": [
    "txn_df.shape"
   ]
  },
  {
   "cell_type": "code",
   "execution_count": 12,
   "id": "301bfe67",
   "metadata": {},
   "outputs": [],
   "source": [
    "txn_df = txn_df[txn_df['source_name']!=txn_df['target_name']]"
   ]
  },
  {
   "cell_type": "code",
   "execution_count": 13,
   "id": "9e3a7d7d",
   "metadata": {},
   "outputs": [
    {
     "data": {
      "text/plain": [
       "(943572, 29)"
      ]
     },
     "execution_count": 13,
     "metadata": {},
     "output_type": "execute_result"
    }
   ],
   "source": [
    "txn_df.shape"
   ]
  },
  {
   "cell_type": "code",
   "execution_count": 15,
   "id": "b61ff817",
   "metadata": {},
   "outputs": [],
   "source": [
    "# remove 'personal savings' and 'playeveryday debit'\n",
    "txn_df = txn_df[txn_df['source_name']!='personal savings']\n",
    "txn_df = txn_df[txn_df['source_name']!='playeveryday debit']"
   ]
  },
  {
   "cell_type": "code",
   "execution_count": 16,
   "id": "4b0fdd50",
   "metadata": {},
   "outputs": [
    {
     "data": {
      "text/plain": [
       "(859995, 29)"
      ]
     },
     "execution_count": 16,
     "metadata": {},
     "output_type": "execute_result"
    }
   ],
   "source": [
    "txn_df.shape"
   ]
  },
  {
   "cell_type": "code",
   "execution_count": 18,
   "id": "cd18d4da",
   "metadata": {},
   "outputs": [],
   "source": [
    "# remove 'nofill' and 'number'\n",
    "txn_df = txn_df[txn_df['target_name']!='nofill']\n",
    "txn_df = txn_df[txn_df['target_name']!='number']"
   ]
  },
  {
   "cell_type": "code",
   "execution_count": 19,
   "id": "b31cc1ff",
   "metadata": {},
   "outputs": [
    {
     "data": {
      "text/plain": [
       "(732107, 29)"
      ]
     },
     "execution_count": 19,
     "metadata": {},
     "output_type": "execute_result"
    }
   ],
   "source": [
    "txn_df.shape"
   ]
  },
  {
   "cell_type": "markdown",
   "id": "ffbb224a",
   "metadata": {},
   "source": [
    "##### create level 2 dataset"
   ]
  },
  {
   "cell_type": "code",
   "execution_count": 21,
   "id": "5b34004d",
   "metadata": {},
   "outputs": [
    {
     "data": {
      "text/plain": [
       "PHP    732050\n",
       "USD        57\n",
       "Name: currency, dtype: int64"
      ]
     },
     "execution_count": 21,
     "metadata": {},
     "output_type": "execute_result"
    }
   ],
   "source": [
    "txn_df['currency'].value_counts()"
   ]
  },
  {
   "cell_type": "markdown",
   "id": "058d73cd",
   "metadata": {},
   "source": [
    "**filter for bank to bank txn**"
   ]
  },
  {
   "cell_type": "code",
   "execution_count": 22,
   "id": "b092b8f7",
   "metadata": {},
   "outputs": [],
   "source": [
    "ubp_1 = txn_df[txn_df['TargetBank']=='bank'][['tran_date','source_name','target_name','TargetBank','txn_amount','response']].dropna(subset = ['target_name'])\n"
   ]
  },
  {
   "cell_type": "code",
   "execution_count": 23,
   "id": "2f65a035",
   "metadata": {},
   "outputs": [],
   "source": [
    "ubp_1 = ubp_1[ubp_1['source_name']!=ubp_1['target_name']]"
   ]
  },
  {
   "cell_type": "markdown",
   "id": "c3bc2b2e",
   "metadata": {},
   "source": [
    "**filter for bank to non-bank txn**"
   ]
  },
  {
   "cell_type": "code",
   "execution_count": 25,
   "id": "e20d116d",
   "metadata": {},
   "outputs": [],
   "source": [
    "ubp_2 = txn_df[txn_df['TargetBank']!='bank'][['tran_date','source_name','target_name','TargetBank','txn_amount','response']].dropna(subset = ['target_name'])"
   ]
  },
  {
   "cell_type": "code",
   "execution_count": 26,
   "id": "2b675018",
   "metadata": {},
   "outputs": [],
   "source": [
    "ubp_2 = ubp_2[ubp_2['source_name']!=ubp_2['target_name']]"
   ]
  },
  {
   "cell_type": "code",
   "execution_count": 28,
   "id": "0ab9cd75",
   "metadata": {},
   "outputs": [],
   "source": [
    "# merge both such that bank to bank to non-bank\n",
    "big_df = pd.merge(ubp_1, ubp_2, left_on=['target_name'], right_on=['source_name'])"
   ]
  },
  {
   "cell_type": "code",
   "execution_count": 29,
   "id": "7c1e5102",
   "metadata": {},
   "outputs": [
    {
     "data": {
      "text/plain": [
       "(20775816, 12)"
      ]
     },
     "execution_count": 29,
     "metadata": {},
     "output_type": "execute_result"
    }
   ],
   "source": [
    "big_df.shape"
   ]
  },
  {
   "cell_type": "code",
   "execution_count": 31,
   "id": "4bd75178",
   "metadata": {},
   "outputs": [],
   "source": [
    "big_df['day_diff'] = (pd.to_datetime(big_df['tran_date_y']) - pd.to_datetime(big_df['tran_date_x'])).dt.days"
   ]
  },
  {
   "cell_type": "code",
   "execution_count": 32,
   "id": "38f4e95c",
   "metadata": {},
   "outputs": [],
   "source": [
    "# transactions done within number of days\n",
    "nr_day = 2"
   ]
  },
  {
   "cell_type": "code",
   "execution_count": 33,
   "id": "6f2babb0",
   "metadata": {},
   "outputs": [],
   "source": [
    "# transfers have to be done within n day, and not on same day\n",
    "level_2 = big_df[(big_df['day_diff']<=nr_day) & (big_df['day_diff']>0)] "
   ]
  },
  {
   "cell_type": "code",
   "execution_count": 35,
   "id": "4a56a93b",
   "metadata": {
    "scrolled": true
   },
   "outputs": [],
   "source": [
    "# transfers have to be done within n day and the first transactions\n",
    "level_2_first = big_df[(big_df['day_diff']<=nr_day) & (big_df['day_diff']>0)].groupby(by=['tran_date_x','source_name_x','target_name_x','TargetBank_x','txn_amount_x','response_x']).first().reset_index()"
   ]
  },
  {
   "cell_type": "markdown",
   "id": "b7d94963",
   "metadata": {},
   "source": [
    "##### export level 2 data"
   ]
  },
  {
   "cell_type": "code",
   "execution_count": 37,
   "id": "eabde44a",
   "metadata": {},
   "outputs": [],
   "source": [
    "level_2.to_csv('./data/level_2.csv')"
   ]
  },
  {
   "cell_type": "markdown",
   "id": "9b584d02",
   "metadata": {},
   "source": [
    "#### level 3"
   ]
  },
  {
   "cell_type": "markdown",
   "id": "42b7ddce",
   "metadata": {},
   "source": [
    "##### create level 3 dataset"
   ]
  },
  {
   "cell_type": "code",
   "execution_count": 43,
   "id": "b19cc016",
   "metadata": {},
   "outputs": [],
   "source": [
    "# merge both such that bank to bank to bank\n",
    "tmp2 = pd.merge(ubp_1, ubp_1, left_on=['target_name'], right_on=['source_name'])"
   ]
  },
  {
   "cell_type": "code",
   "execution_count": 45,
   "id": "ab0205cb",
   "metadata": {},
   "outputs": [
    {
     "data": {
      "text/plain": [
       "(5647994, 12)"
      ]
     },
     "execution_count": 45,
     "metadata": {},
     "output_type": "execute_result"
    }
   ],
   "source": [
    "tmp2.shape"
   ]
  },
  {
   "cell_type": "code",
   "execution_count": 46,
   "id": "a2c0447b",
   "metadata": {},
   "outputs": [],
   "source": [
    "tmp2['day_diff'] = (pd.to_datetime(tmp2['tran_date_y']) - pd.to_datetime(tmp2['tran_date_x'])).dt.days"
   ]
  },
  {
   "cell_type": "code",
   "execution_count": 47,
   "id": "3e6757df",
   "metadata": {},
   "outputs": [],
   "source": [
    "# transfers have to be done within 1 day. \n",
    "ubp_1_1 = tmp2[(tmp2['day_diff']<=1) & (tmp2['day_diff']>0)]"
   ]
  },
  {
   "cell_type": "code",
   "execution_count": 49,
   "id": "5f0b8d32",
   "metadata": {},
   "outputs": [],
   "source": [
    "# transfers have to be done within 3 days, and first transaction \n",
    "tmp2[(tmp2['day_diff']<=3) & (tmp2['day_diff']>0)].groupby(by=['tran_date_x','source_name_x','target_name_x','TargetBank_x','txn_amount_x','response_x']).first().reset_index()"
   ]
  },
  {
   "cell_type": "code",
   "execution_count": 50,
   "id": "e05f420c",
   "metadata": {},
   "outputs": [
    {
     "data": {
      "text/plain": [
       "(71171, 13)"
      ]
     },
     "execution_count": 50,
     "metadata": {},
     "output_type": "execute_result"
    }
   ],
   "source": [
    "ubp_1_1.shape"
   ]
  },
  {
   "cell_type": "code",
   "execution_count": 52,
   "id": "78ffb819",
   "metadata": {},
   "outputs": [],
   "source": [
    "# ubp_1_1 - bank to bank to bank\n",
    "# ubp_2 - bank to non-bank\n",
    "# merge both such that bank to bank to bank to non-bank\n",
    "tmp3 = pd.merge(ubp_1_1, ubp_2, left_on=['target_name_y'], right_on=['source_name'])"
   ]
  },
  {
   "cell_type": "code",
   "execution_count": 54,
   "id": "e1581633",
   "metadata": {},
   "outputs": [
    {
     "data": {
      "text/plain": [
       "(9292699, 19)"
      ]
     },
     "execution_count": 54,
     "metadata": {},
     "output_type": "execute_result"
    }
   ],
   "source": [
    "tmp3.shape"
   ]
  },
  {
   "cell_type": "code",
   "execution_count": 55,
   "id": "1a0e0004",
   "metadata": {},
   "outputs": [],
   "source": [
    "tmp3['day_diff'] = (pd.to_datetime(tmp3['tran_date']) - pd.to_datetime(tmp3['tran_date_y'])).dt.days"
   ]
  },
  {
   "cell_type": "code",
   "execution_count": 56,
   "id": "7abc5109",
   "metadata": {},
   "outputs": [],
   "source": [
    "# transactions done within number of days\n",
    "nr_day = 2"
   ]
  },
  {
   "cell_type": "code",
   "execution_count": 57,
   "id": "ce4379ff",
   "metadata": {},
   "outputs": [],
   "source": [
    "# transfers between bank2 to non-bank\n",
    "# transfers have to be done within n day, and not on same day\n",
    "level_3 = tmp3[(tmp3['day_diff']<=nr_day) & (tmp3['day_diff']>0)]"
   ]
  },
  {
   "cell_type": "code",
   "execution_count": 59,
   "id": "7e8f5dff",
   "metadata": {},
   "outputs": [],
   "source": [
    "# transfers between bank2 to non-bank\n",
    "# transfers have to be done within 2 days, and first transactions\n",
    "level_3_first = tmp3[(tmp3['day_diff']<=nr_day) & (tmp3['day_diff']>0)].groupby(by=['tran_date_y','source_name_y','target_name_y','TargetBank_y','txn_amount_y','response_y']).first().reset_index()"
   ]
  },
  {
   "cell_type": "markdown",
   "id": "fe28bc79",
   "metadata": {},
   "source": [
    "##### export level 3 data"
   ]
  },
  {
   "cell_type": "code",
   "execution_count": 61,
   "id": "00e83c1c",
   "metadata": {},
   "outputs": [],
   "source": [
    "level_3.to_csv('./data/level_3.csv')"
   ]
  }
 ],
 "metadata": {
  "kernelspec": {
   "display_name": "Python 3 (ipykernel)",
   "language": "python",
   "name": "python3"
  },
  "language_info": {
   "codemirror_mode": {
    "name": "ipython",
    "version": 3
   },
   "file_extension": ".py",
   "mimetype": "text/x-python",
   "name": "python",
   "nbconvert_exporter": "python",
   "pygments_lexer": "ipython3",
   "version": "3.8.8"
  },
  "toc": {
   "base_numbering": 1,
   "nav_menu": {},
   "number_sections": true,
   "sideBar": true,
   "skip_h1_title": false,
   "title_cell": "Table of Contents",
   "title_sidebar": "Contents",
   "toc_cell": false,
   "toc_position": {},
   "toc_section_display": true,
   "toc_window_display": true
  }
 },
 "nbformat": 4,
 "nbformat_minor": 5
}
